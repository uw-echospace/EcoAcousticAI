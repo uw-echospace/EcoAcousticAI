{
 "cells": [
  {
   "cell_type": "code",
   "execution_count": null,
   "id": "7a837287",
   "metadata": {},
   "outputs": [],
   "source": [
    "# This notebook creates spectrogram images from a directory of sound files in .wav format.\n",
    "# The code is optimized to be processed in parallel on multi-core machines."
   ]
  },
  {
   "cell_type": "code",
   "execution_count": null,
   "id": "4a0aa5b8",
   "metadata": {},
   "outputs": [],
   "source": [
    "# Spectogram generation library\n",
    "# https://librosa.org/doc/latest/index.html\n",
    "%conda install --yes --prefix {sys.prefix} librosa\n"
   ]
  },
  {
   "cell_type": "code",
   "execution_count": null,
   "id": "29e314de",
   "metadata": {},
   "outputs": [],
   "source": [
    "# imports\n",
    "\n",
    "# With the exception of the librosa library installed above, all of these modules are \n",
    "# either included in the code base or provided by default on Amazon Sagemaker. \n",
    "\n",
    "import os\n",
    "import os.path\n",
    "\n",
    "import nabat_training_helpers\n"
   ]
  },
  {
   "cell_type": "code",
   "execution_count": null,
   "id": "011dade6",
   "metadata": {},
   "outputs": [],
   "source": [
    "# Test we have a valid database and enumerate the species represented.\n",
    "species_ids = nabat_training_helpers.test_db()"
   ]
  },
  {
   "cell_type": "code",
   "execution_count": null,
   "id": "e6ed0484",
   "metadata": {},
   "outputs": [],
   "source": [
    "# Point to a directory containing .wav files organized by species code. \n",
    "# Example \"../v1.1.0/data/wav/ANPA/p163_g89522_f28390444.wav\"\n",
    "directory = '../v1.1.0/data/wav' # Update for your environment when running locally"
   ]
  },
  {
   "cell_type": "code",
   "execution_count": null,
   "id": "ca4fd4e1",
   "metadata": {},
   "outputs": [],
   "source": [
    "# Optional step.\n",
    "# Create a plot visualizing our sample size of input data.\n",
    "nabat_training_helpers.visualize_input_data(species_ids, directory)"
   ]
  },
  {
   "cell_type": "code",
   "execution_count": null,
   "id": "87ea7f97",
   "metadata": {},
   "outputs": [],
   "source": [
    "\n",
    "# Get the working directory and define an output directory for spectrograms.\n",
    "dir_path = os.getcwd()\n",
    "create_spectrogram_location = 'data/images'      \n"
   ]
  },
  {
   "cell_type": "code",
   "execution_count": null,
   "id": "8f597bc2",
   "metadata": {},
   "outputs": [],
   "source": [
    "nabat_training_helpers.generate_spectrograms(species_ids, directory, create_spectrogram_location)"
   ]
  },
  {
   "cell_type": "code",
   "execution_count": null,
   "id": "81fde269",
   "metadata": {},
   "outputs": [],
   "source": [
    "# Done!"
   ]
  }
 ],
 "metadata": {
  "kernelspec": {
   "display_name": "nabat-ml",
   "language": "python",
   "name": "nabat-ml"
  },
  "language_info": {
   "codemirror_mode": {
    "name": "ipython",
    "version": 3
   },
   "file_extension": ".py",
   "mimetype": "text/x-python",
   "name": "python",
   "nbconvert_exporter": "python",
   "pygments_lexer": "ipython3",
   "version": "3.11.5"
  }
 },
 "nbformat": 4,
 "nbformat_minor": 5
}
